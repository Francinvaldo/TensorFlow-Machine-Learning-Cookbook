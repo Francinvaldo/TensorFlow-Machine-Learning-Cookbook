{
 "cells": [
  {
   "cell_type": "code",
   "execution_count": 47,
   "metadata": {
    "collapsed": true
   },
   "outputs": [],
   "source": [
    "import tensorflow as tf\n",
    "import numpy as np"
   ]
  },
  {
   "cell_type": "code",
   "execution_count": 48,
   "metadata": {},
   "outputs": [],
   "source": [
    "\n",
    "\n",
    "x_val= 5.\n",
    "x_data = tf.placeholder('float32')\n",
    "a = tf.Variable(1.)\n",
    "b = tf.Variable(1.)\n",
    "\n",
    "saida = tf.add(tf.multiply(a,x_data),b)\n",
    "\n",
    "#loss function \n",
    "\n",
    "loss = tf.square(tf.subtract(saida , 50))\n",
    "my_opt = tf.train.GradientDescentOptimizer(0.01)\n",
    "train_step = my_opt.minimize(loss)\n",
    "\n",
    "\n",
    "\n",
    "m = tf.global_variables_initializer()\n",
    "\n",
    "\n"
   ]
  },
  {
   "cell_type": "code",
   "execution_count": 49,
   "metadata": {},
   "outputs": [
    {
     "name": "stdout",
     "output_type": "stream",
     "text": [
      "O resultado da multiplicação e soma de  ((a * x_data )+b) e 6.0\n",
      "square e subtração  1936.0\n",
      "5.4 * 5.0 + 1.88 = 28.88\n",
      "7.512 * 5.0 + 2.3024 = 39.8624\n",
      "8.52576 * 5.0 + 2.50515 = 45.134\n",
      "9.01236 * 5.0 + 2.60247 = 47.6643\n",
      "9.24593 * 5.0 + 2.64919 = 48.8789\n",
      "9.35805 * 5.0 + 2.67161 = 49.4619\n",
      "9.41186 * 5.0 + 2.68237 = 49.7417\n",
      "9.43769 * 5.0 + 2.68754 = 49.876\n",
      "9.45009 * 5.0 + 2.69002 = 49.9405\n",
      "9.45605 * 5.0 + 2.69121 = 49.9714\n"
     ]
    }
   ],
   "source": [
    "with tf.Session() as sess:\n",
    "    sess.run(m)\n",
    "    print('O resultado da multiplicação e soma de  ((a * x_data )+b) e {}'.format(sess.run(saida , feed_dict={x_data:x_val})))\n",
    "    print('square e subtração ',sess.run(loss ,feed_dict={x_data:x_val}))\n",
    "    \n",
    "    for i in range(10):\n",
    "        sess.run(train_step , feed_dict={x_data:x_val})\n",
    "        a_val , b_val = (sess.run(a)) ,(sess.run(b))\n",
    "        two_saida = sess.run(saida , feed_dict={x_data:x_val})\n",
    "        print(str(a_val)+ ' * '+str(x_val)+' + '+ str(b_val)+' = '+str(two_saida))\n",
    "    \n",
    "    \n",
    "    "
   ]
  },
  {
   "cell_type": "code",
   "execution_count": null,
   "metadata": {
    "collapsed": true
   },
   "outputs": [],
   "source": [
    "\n",
    "    \n",
    "    \n",
    "    \n",
    "    "
   ]
  }
 ],
 "metadata": {
  "kernelspec": {
   "display_name": "Python 3",
   "language": "python",
   "name": "python3"
  },
  "language_info": {
   "codemirror_mode": {
    "name": "ipython",
    "version": 3
   },
   "file_extension": ".py",
   "mimetype": "text/x-python",
   "name": "python",
   "nbconvert_exporter": "python",
   "pygments_lexer": "ipython3",
   "version": "3.5.2"
  }
 },
 "nbformat": 4,
 "nbformat_minor": 2
}
