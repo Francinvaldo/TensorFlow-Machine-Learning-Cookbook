{
 "cells": [
  {
   "cell_type": "markdown",
   "metadata": {},
   "source": [
    "In this section, we will compare and contrast two different activation functions, the sigmoid\n",
    "and the rectified linear unit (ReLU). Recall that the two functions are given by the following\n",
    "equations:\n",
    "\n",
    "     sigmoid(x) = (1 / 1 + exp^x)\n",
    "     ReLU       = max(0,x)\n"
   ]
  },
  {
   "cell_type": "code",
   "execution_count": 8,
   "metadata": {
    "collapsed": true
   },
   "outputs": [],
   "source": [
    "import tensorflow as tf\n",
    "import numpy as np\n",
    "import matplotlib.pyplot as plt\n",
    "sess = tf.Session()\n",
    "#b = tf.set_random_seed(5)\n",
    "#a = np.random.seed(42)\n"
   ]
  },
  {
   "cell_type": "code",
   "execution_count": 9,
   "metadata": {},
   "outputs": [],
   "source": [
    "batch_size = 50\n",
    "a1 = tf.Variable(tf.random_normal([1,1]))\n",
    "b1 = tf.Variable(tf.random_normal([1,1]))\n",
    "\n",
    "\n",
    "modelo = tf.global_variables_initializer()"
   ]
  },
  {
   "cell_type": "code",
   "execution_count": 10,
   "metadata": {},
   "outputs": [
    {
     "name": "stdout",
     "output_type": "stream",
     "text": [
      "A [[-2.42688584]]\n",
      "B [[-0.99506468]]\n"
     ]
    }
   ],
   "source": [
    "sess.run(modelo)\n",
    " \n",
    "print('A',sess.run(a1))\n",
    "print('B',sess.run(b1))"
   ]
  },
  {
   "cell_type": "code",
   "execution_count": null,
   "metadata": {
    "collapsed": true
   },
   "outputs": [],
   "source": []
  }
 ],
 "metadata": {
  "kernelspec": {
   "display_name": "Python 3",
   "language": "python",
   "name": "python3"
  },
  "language_info": {
   "codemirror_mode": {
    "name": "ipython",
    "version": 3
   },
   "file_extension": ".py",
   "mimetype": "text/x-python",
   "name": "python",
   "nbconvert_exporter": "python",
   "pygments_lexer": "ipython3",
   "version": "3.5.2"
  }
 },
 "nbformat": 4,
 "nbformat_minor": 2
}
