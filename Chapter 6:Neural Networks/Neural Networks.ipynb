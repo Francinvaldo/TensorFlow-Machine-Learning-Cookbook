{
 "cells": [
  {
   "cell_type": "markdown",
   "metadata": {},
   "source": [
    "In this chapter, we will introduce neural networks and how to implement them in TensorFlow.\n",
    "Most of the subsequent chapters will be based on neural networks, so learning how to use\n",
    "them in TensorFlow is very important. We will start by introducing basic concepts of neural\n",
    "networking and work up to multilayer networks. In the last section, we will create a neural\n",
    "network that learns to play Tic Tac Toe.\n",
    "In this chapter, we'll cover the following recipes:\n",
    "\n",
    "\n",
    "In this chapter, we'll cover the following recipes:\n",
    "* [Implementing Operational Gates](Implementing Operational Gates.ipynb)\n",
    "* Working with Gates and Activation Functions\n",
    "* Implementing a One-Layer Neural Network\n",
    "* Implementing Different Layers\n",
    "* Using Multilayer Networks\n",
    "* Improving Predictions of Linear Models\n",
    "* Learning to Play Tic Tac Toe\n"
   ]
  },
  {
   "cell_type": "code",
   "execution_count": null,
   "metadata": {
    "collapsed": true
   },
   "outputs": [],
   "source": []
  }
 ],
 "metadata": {
  "kernelspec": {
   "display_name": "Python 3",
   "language": "python",
   "name": "python3"
  },
  "language_info": {
   "codemirror_mode": {
    "name": "ipython",
    "version": 3
   },
   "file_extension": ".py",
   "mimetype": "text/x-python",
   "name": "python",
   "nbconvert_exporter": "python",
   "pygments_lexer": "ipython3",
   "version": "3.5.2"
  }
 },
 "nbformat": 4,
 "nbformat_minor": 2
}
