{
 "cells": [
  {
   "cell_type": "markdown",
   "metadata": {},
   "source": [
    "##  To implement the first operational f(x)=a.x in TensorFlow and train the output toward the\n",
    "## value of 50, follow these steps"
   ]
  },
  {
   "cell_type": "code",
   "execution_count": 4,
   "metadata": {
    "collapsed": true
   },
   "outputs": [],
   "source": [
    "import tensorflow as tf\n",
    "import numpy as np"
   ]
  },
  {
   "cell_type": "code",
   "execution_count": 5,
   "metadata": {
    "collapsed": true
   },
   "outputs": [],
   "source": [
    "sess = tf.Session()\n",
    "\n",
    "a = tf.Variable(4.)\n",
    "x_val = 5.\n",
    "x_data = tf.placeholder('float32')\n",
    "\n",
    "\n",
    "modelo  = tf.global_variables_initializer()"
   ]
  },
  {
   "cell_type": "code",
   "execution_count": 6,
   "metadata": {},
   "outputs": [
    {
     "name": "stdout",
     "output_type": "stream",
     "text": [
      "Otimizando a saida \n",
      "7.0  X  5.0  = 35.0\n",
      "8.5  X  5.0  = 42.5\n",
      "9.25  X  5.0  = 46.25\n",
      "9.625  X  5.0  = 48.125\n",
      "9.8125  X  5.0  = 49.0625\n",
      "9.90625  X  5.0  = 49.5312\n",
      "9.95312  X  5.0  = 49.7656\n",
      "9.97656  X  5.0  = 49.8828\n",
      "9.98828  X  5.0  = 49.9414\n",
      "9.99414  X  5.0  = 49.9707\n"
     ]
    }
   ],
   "source": [
    "#multiplicar os dados pela variavel\n",
    "multiplica = tf.multiply(a,x_data)\n",
    "1#  Next we add the operation to our computational graph:\n",
    "\n",
    "\n",
    "2# We will declare the loss function as the L2 distance between the output and the\n",
    "   #desired target value of 50:\n",
    "#loss = tf.subtract(multiplica , 50)\n",
    "loss = tf.square(tf.subtract(multiplica , 50.))\n",
    "    \n",
    "3# Now we initialize our model variable and declare our optimizing algorithm as the\n",
    "  #standard gradient descent:\n",
    "    \n",
    "\n",
    "\n",
    "my_opt = tf.train.GradientDescentOptimizer(0.01)   \n",
    "train_step = my_opt.minimize(loss)   \n",
    "\n",
    "sess.run(modelo)\n",
    "print('Otimizando a saida ')\n",
    "for i in range(10):\n",
    "   \n",
    "    sess.run(train_step , feed_dict={x_data:x_val})\n",
    "    a_val = sess.run(a)\n",
    "    mul_output = sess.run(multiplica , feed_dict={x_data:x_val})\n",
    "    print(str(a_val)+'  X  '+str(x_val)+'  = '+str(mul_output))\n"
   ]
  },
  {
   "cell_type": "code",
   "execution_count": null,
   "metadata": {
    "collapsed": true
   },
   "outputs": [],
   "source": []
  }
 ],
 "metadata": {
  "kernelspec": {
   "display_name": "Python 3",
   "language": "python",
   "name": "python3"
  },
  "language_info": {
   "codemirror_mode": {
    "name": "ipython",
    "version": 3
   },
   "file_extension": ".py",
   "mimetype": "text/x-python",
   "name": "python",
   "nbconvert_exporter": "python",
   "pygments_lexer": "ipython3",
   "version": "3.5.2"
  }
 },
 "nbformat": 4,
 "nbformat_minor": 2
}
