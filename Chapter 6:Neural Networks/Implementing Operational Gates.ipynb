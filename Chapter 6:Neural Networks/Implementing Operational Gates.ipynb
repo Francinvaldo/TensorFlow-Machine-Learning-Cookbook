{
 "cells": [
  {
   "cell_type": "code",
   "execution_count": 1,
   "metadata": {
    "collapsed": true
   },
   "outputs": [],
   "source": [
    "import tensorflow as tf\n",
    "import numpy as np\n",
    "Sess = tf.Session()"
   ]
  },
  {
   "cell_type": "code",
   "execution_count": 2,
   "metadata": {},
   "outputs": [
    {
     "name": "stdout",
     "output_type": "stream",
     "text": [
      "<tf.Variable 'Variable:0' shape=() dtype=float32_ref>\n",
      "<class 'float'>\n",
      "Tensor(\"Placeholder:0\", dtype=float32)\n"
     ]
    }
   ],
   "source": [
    "a = tf.Variable(tf.constant(4.))\n",
    "print(a)  \n",
    "\n",
    "x_val = 5\n",
    "\n",
    "print(type(x_val))\n",
    "\n",
    "\n",
    "x_data = tf.placeholder('float32')\n",
    "print(x_data)\n",
    "\n",
    "\n",
    "modelo = tf.global_variables_initializer()"
   ]
  },
  {
   "cell_type": "code",
   "execution_count": 3,
   "metadata": {},
   "outputs": [
    {
     "data": {
      "text/plain": [
       "20.0"
      ]
     },
     "execution_count": 3,
     "metadata": {},
     "output_type": "execute_result"
    }
   ],
   "source": [
    "y = tf.multiply(a , x_data)\n",
    "Sess.run(modelo)\n",
    "Sess.run(y , feed_dict={x_data:x_val})\n"
   ]
  },
  {
   "cell_type": "code",
   "execution_count": null,
   "metadata": {
    "collapsed": true
   },
   "outputs": [],
   "source": []
  },
  {
   "cell_type": "code",
   "execution_count": null,
   "metadata": {
    "collapsed": true
   },
   "outputs": [],
   "source": []
  }
 ],
 "metadata": {
  "kernelspec": {
   "display_name": "Python 3",
   "language": "python",
   "name": "python3"
  },
  "language_info": {
   "codemirror_mode": {
    "name": "ipython",
    "version": 3
   },
   "file_extension": ".py",
   "mimetype": "text/x-python",
   "name": "python",
   "nbconvert_exporter": "python",
   "pygments_lexer": "ipython3",
   "version": "3.5.2"
  }
 },
 "nbformat": 4,
 "nbformat_minor": 2
}
