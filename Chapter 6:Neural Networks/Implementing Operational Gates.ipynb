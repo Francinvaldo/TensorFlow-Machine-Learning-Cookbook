{
 "cells": [
  {
   "cell_type": "code",
   "execution_count": 72,
   "metadata": {
    "collapsed": true
   },
   "outputs": [],
   "source": [
    "import tensorflow as tf\n",
    "import numpy as np\n",
    "Sess = tf.Session()"
   ]
  },
  {
   "cell_type": "code",
   "execution_count": 73,
   "metadata": {},
   "outputs": [],
   "source": [
    "a = tf.Variable(tf.constant(4.))\n",
    "#print(a)  \n",
    "\n",
    "x_val = np.float32(5.)\n",
    "\n",
    "#print(type(x_val))\n",
    "\n",
    "\n",
    "x_data = tf.placeholder('float32')\n",
    "#print(x_data)\n",
    "\n",
    "\n",
    "modelo = tf.global_variables_initializer()"
   ]
  },
  {
   "cell_type": "code",
   "execution_count": 74,
   "metadata": {},
   "outputs": [
    {
     "name": "stdout",
     "output_type": "stream",
     "text": [
      "Optimizing a multiplication gate outout to 50.\n",
      "7.0*5.0= 35.0\n",
      "8.5*5.0= 42.5\n",
      "9.25*5.0= 46.25\n",
      "9.625*5.0= 48.125\n",
      "9.8125*5.0= 49.0625\n",
      "9.90625*5.0= 49.5312\n",
      "9.95312*5.0= 49.7656\n",
      "9.97656*5.0= 49.8828\n",
      "9.98828*5.0= 49.9414\n",
      "9.99414*5.0= 49.9707\n",
      "9.99707*5.0= 49.9854\n",
      "9.99854*5.0= 49.9927\n"
     ]
    }
   ],
   "source": [
    "multiplication  = tf.multiply(a , x_data)\n",
    "loss = tf.square(tf.subtract(multiplication, 50.))\n",
    "my_opt = tf.train.GradientDescentOptimizer(0.01)\n",
    "train_step = my_opt.minimize(loss)\n",
    "\n",
    "Sess.run(modelo)\n",
    "\n",
    "print('Optimizing a multiplication gate outout to 50.')\n",
    "for  i in range(12):\n",
    "    Sess.run(train_step , feed_dict={x_data:x_val})\n",
    "    a_val = Sess.run(a)\n",
    "    mult_output = Sess.run(multiplication, feed_dict={x_data:x_val})\n",
    "    print(str(a_val) +  '*' + str(x_val) + '= ' + str(mult_output))\n",
    "    \n",
    "\n",
    "\n",
    "\n",
    "\n"
   ]
  },
  {
   "cell_type": "code",
   "execution_count": null,
   "metadata": {
    "collapsed": true
   },
   "outputs": [],
   "source": []
  }
 ],
 "metadata": {
  "kernelspec": {
   "display_name": "Python 3",
   "language": "python",
   "name": "python3"
  },
  "language_info": {
   "codemirror_mode": {
    "name": "ipython",
    "version": 3
   },
   "file_extension": ".py",
   "mimetype": "text/x-python",
   "name": "python",
   "nbconvert_exporter": "python",
   "pygments_lexer": "ipython3",
   "version": "3.5.2"
  }
 },
 "nbformat": 4,
 "nbformat_minor": 2
}
