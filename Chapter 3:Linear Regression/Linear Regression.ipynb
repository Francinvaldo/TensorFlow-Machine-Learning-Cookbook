{
 "cells": [
  {
   "cell_type": "markdown",
   "metadata": {},
   "source": [
    "# Linear Regression"
   ]
  },
  {
   "cell_type": "markdown",
   "metadata": {},
   "source": [
    "In this chapter, we will cover the basic recipes for understanding how TensorFlow works and\n",
    "how to access data for this book and additional resources. We will cover the following areas:\n",
    "\n",
    " -  Using the Matrix Inverse Method\n",
    " -  Implementing a Decomposition Method\n",
    " -  Learning the TensorFlow Way of Regression\n",
    " -  Understanding Loss Functions in Linear Regression\n",
    " -  Implementing Deming Regression\n",
    " -  Implementing Lasso and Ridge Regression\n",
    " -  Implementing Elastic Net Regression\n",
    " -  Implementing Regression Logistic Regression"
   ]
  },
  {
   "cell_type": "code",
   "execution_count": null,
   "metadata": {
    "collapsed": true
   },
   "outputs": [],
   "source": []
  }
 ],
 "metadata": {
  "kernelspec": {
   "display_name": "Python 3",
   "language": "python",
   "name": "python3"
  },
  "language_info": {
   "codemirror_mode": {
    "name": "ipython",
    "version": 3
   },
   "file_extension": ".py",
   "mimetype": "text/x-python",
   "name": "python",
   "nbconvert_exporter": "python",
   "pygments_lexer": "ipython3",
   "version": "3.5.2"
  }
 },
 "nbformat": 4,
 "nbformat_minor": 2
}
