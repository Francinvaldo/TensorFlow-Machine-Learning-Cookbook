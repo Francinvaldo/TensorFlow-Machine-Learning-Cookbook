{
 "cells": [
  {
   "cell_type": "markdown",
   "metadata": {},
   "source": [
    "# Using the Matrix Inverse Method"
   ]
  },
  {
   "cell_type": "markdown",
   "metadata": {},
   "source": [
    "Linear regression can be represented as a set of matrix equations, say <b>Ax = B</b> Here we\n",
    "are interested in solving the coefficients in matrix x. We have to be careful if our observation\n",
    "matrix (design matrix) A is not square. The solution to solving x can be expressed as\n",
    "\n",
    "$$x = (A^{T}A^{-1}A^{T}b)$$\n",
    "\n",
    "\n",
    ". To show this is indeed the case, we will generate two-dimensional data,\n",
    "solve it in TensorFlow, and plot the result."
   ]
  },
  {
   "cell_type": "code",
   "execution_count": 1,
   "metadata": {
    "collapsed": true
   },
   "outputs": [],
   "source": [
    "import matplotlib.pyplot as plt\n",
    "import numpy as np\n",
    "import tensorflow as tf"
   ]
  },
  {
   "cell_type": "code",
   "execution_count": 7,
   "metadata": {
    "collapsed": true
   },
   "outputs": [],
   "source": [
    "# 1 \n",
    "sess = tf.Session()\n",
    "\n",
    "x_vals = np.linspace(0 , 10 , 100)\n",
    "y_vals = x_vals  + np.random.normal(0 ,1 , 100)"
   ]
  },
  {
   "cell_type": "code",
   "execution_count": 17,
   "metadata": {},
   "outputs": [
    {
     "name": "stdout",
     "output_type": "stream",
     "text": [
      "X Matriz normal  = \n",
      "[[0 1]\n",
      " [2 3]] \n",
      "\n",
      "\n",
      "\n",
      "Matriz Transposta de x  =  \n",
      "[[0 2]\n",
      " [1 3]]\n"
     ]
    }
   ],
   "source": [
    "#  transpose \n",
    "# referência  - https://docs.scipy.org/doc/numpy/reference/generated/numpy.transpose.html\n",
    "x = np.arange(4).reshape(2,2)\n",
    "print('X Matriz normal  = \\n{} '.format(x))\n",
    "print('\\n\\n')\n",
    "print('Matriz Transposta de x  =  \\n{}'.format(np.transpose(x)))\n"
   ]
  },
  {
   "cell_type": "code",
   "execution_count": null,
   "metadata": {
    "collapsed": true
   },
   "outputs": [],
   "source": []
  }
 ],
 "metadata": {
  "kernelspec": {
   "display_name": "Python 3",
   "language": "python",
   "name": "python3"
  },
  "language_info": {
   "codemirror_mode": {
    "name": "ipython",
    "version": 3
   },
   "file_extension": ".py",
   "mimetype": "text/x-python",
   "name": "python",
   "nbconvert_exporter": "python",
   "pygments_lexer": "ipython3",
   "version": "3.5.2"
  }
 },
 "nbformat": 4,
 "nbformat_minor": 2
}
