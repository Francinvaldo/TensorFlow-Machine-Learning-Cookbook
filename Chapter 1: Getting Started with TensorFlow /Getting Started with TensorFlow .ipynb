{
 "cells": [
  {
   "cell_type": "markdown",
   "metadata": {},
   "source": [
    "#  Getting Started with TensorFlow\n",
    "\n",
    "In this chapter, we will cover basic recipes in order to understand how TensorFlow works and\n",
    "how to access data for this book and additional resources. By the end of the chapter, you\n",
    "should have knowledge of the following:\n",
    "\n",
    "  \n",
    "    \n",
    "  - [How TensorFlow Works](How TensorFlow Works.ipynb) \n",
    "  - [Declaring Variables and Tensors](Declaring Variables and Tensors.ipynb)\n",
    "  - Using Placeholders and Variables\n",
    "  - Working with Matrices\n",
    "  - Declaring Operations\n",
    "  - Implementing Activation Functions\n",
    "  - Working with Data Sources\n",
    "  - Additional Resources"
   ]
  },
  {
   "cell_type": "code",
   "execution_count": 3,
   "metadata": {},
   "outputs": [
    {
     "name": "stdout",
     "output_type": "stream",
     "text": [
      "Getting Started with TensorFlow .ipynb\tHow TensorFlow Works.ipynb\r\n"
     ]
    }
   ],
   "source": [
    "!ls"
   ]
  },
  {
   "cell_type": "code",
   "execution_count": null,
   "metadata": {
    "collapsed": true
   },
   "outputs": [],
   "source": []
  }
 ],
 "metadata": {
  "kernelspec": {
   "display_name": "Python 3",
   "language": "python",
   "name": "python3"
  },
  "language_info": {
   "codemirror_mode": {
    "name": "ipython",
    "version": 3
   },
   "file_extension": ".py",
   "mimetype": "text/x-python",
   "name": "python",
   "nbconvert_exporter": "python",
   "pygments_lexer": "ipython3",
   "version": "3.5.2"
  }
 },
 "nbformat": 4,
 "nbformat_minor": 2
}
