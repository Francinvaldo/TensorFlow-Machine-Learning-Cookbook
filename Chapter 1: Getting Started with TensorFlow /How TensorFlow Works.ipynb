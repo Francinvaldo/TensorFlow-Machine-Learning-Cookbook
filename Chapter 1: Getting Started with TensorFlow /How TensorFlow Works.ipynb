{
 "cells": [
  {
   "cell_type": "markdown",
   "metadata": {},
   "source": [
    "Currently, TensorFlow is supported on Linux, Mac, and Windows. The code for this book has\n",
    "been created and run on a Linux system, but should run on any other system as well. The code\n",
    "for the book is available on GitHub at https://github.com/nfmcclure/tensorflow_\n",
    "cookbookTensorFlow. Throughout this book, we will only concern ourselves with the Python\n",
    "library wrapper of TensorFlow, although most of the original core code for TensorFlow is written\n",
    "in C++. This book will use Python 3.4+ (https://www.python.org) and TensorFlow 0.12\n",
    "(https://www.tensorflow.org). TensorFlow has a 1.0.0 alpha version available on the\n",
    "official GitHub site, and the code in this book has been reviewed to be compatible with that\n",
    "version as well. While TensorFlow can run on the CPU, most algorithms run faster if processed\n",
    "on the GPU, and it is supported on graphics cards with Nvidia Compute Capability v4.0+\n",
    "(v5.1 recommended). Popular GPUs for TensorFlow are Nvidia Tesla architectures and Pascal\n",
    "architectures with at least 4 GB of video RAM. To run on a GPU, you will also need to download\n",
    "and install the Nvidia Cuda Toolkit and also v 5.x + (https://developer.nvidia.com/\n",
    "cuda-downloads). Some of the recipes will rely on a current installation of the Python\n",
    "packages: Scipy, Numpy, and Scikit-Learn. These accompanying packages are also all included\n",
    "in the Anaconda package (https://www.continuum.io/downloads).\n",
    "\n",
    "\n",
    "\n",
    "\n",
    "\n",
    "Here we will introduce the general flow of TensorFlow algorithms. Most recipes will follow\n",
    "this outline:\n",
    "1. ### <b>Import or generate datasets: All of our machine-learning algorithms will depend</b>\n",
    "on datasets. In this book, we will either generate data or use an outside source of\n",
    "datasets. Sometimes it is better to rely on generated data because we will just want to\n",
    "know the expected outcome. Most of the time, we will access public datasets for the\n",
    "given recipe and the details on accessing these are given in section 8 of this chapter.\n",
    "2. Transform and normalize data: Normally, input datasets do not come in the shape\n",
    "TensorFlow would expect so we need to transform TensorFlow them to the accepted\n",
    "shape. The data is usually not in the correct dimension or type that our algorithms\n",
    "expect. We will have to transform our data before we can use it. Most algorithms\n",
    "also expect normalized data and we will do this here as well. TensorFlow has built-in\n",
    "functions that can normalize the data for you as follows:\n",
    "<b>data = tf.nn.batch_norm_with_global_normalization(...)</b>\n",
    "\n",
    "\n",
    "\n",
    "3 .Partition datasets into train, test, and validation sets: We generally want to test our\n",
    "algorithms on different sets that we have trained on. Also, many algorithms require\n",
    "hyperparameter tuning, so we set aside a validation set for determining the best set\n",
    "of hyperp\n",
    "\n",
    "\n",
    "\n",
    "4 . \n",
    "Set algorithm parameters (hyperparameters): Our algorithms usually have a set of\n",
    "parameters that we hold constant throughout the procedure. For example, this can be\n",
    "the number of iterations, the learning rate, or other fixed parameters of our choosing.\n",
    "It is considered good form to initialize these together so the reader or user can easily\n",
    "find them, as follows:\n",
    "\n",
    "\n",
    "\n",
    "\n",
    "learning_rate = 0.01\n",
    "batch_size = 100\n",
    "iterations = 1000"
   ]
  },
  {
   "cell_type": "markdown",
   "metadata": {},
   "source": [
    " "
   ]
  },
  {
   "cell_type": "code",
   "execution_count": null,
   "metadata": {
    "collapsed": true
   },
   "outputs": [],
   "source": []
  }
 ],
 "metadata": {
  "kernelspec": {
   "display_name": "Python 3",
   "language": "python",
   "name": "python3"
  },
  "language_info": {
   "codemirror_mode": {
    "name": "ipython",
    "version": 3
   },
   "file_extension": ".py",
   "mimetype": "text/x-python",
   "name": "python",
   "nbconvert_exporter": "python",
   "pygments_lexer": "ipython3",
   "version": "3.5.2"
  }
 },
 "nbformat": 4,
 "nbformat_minor": 2
}
