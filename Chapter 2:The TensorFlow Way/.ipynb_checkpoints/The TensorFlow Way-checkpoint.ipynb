{
 "cells": [
  {
   "cell_type": "markdown",
   "metadata": {},
   "source": [
    "# The TensorFlow Way\n",
    "\n",
    "\n",
    "In this chapter, we will introduce the key components of how TensorFlow operates. Then we\n",
    "will tie it together to create a simple classifier and evaluate the outcomes. By the end of the\n",
    "chapter you should have learned about the following:\n",
    "\n",
    "  - Operations in a Computational Graph\n",
    "  - Layering Nested Operations\n",
    "  - Working with Multiple Layers\n",
    "  - Implementing Loss Functions\n",
    "  - Implementing Back Propagation\n",
    "  - Working with Batch and Stochastic Training\n",
    "  - Combining Everything Together\n",
    "  - Evaluating Models"
   ]
  }
 ],
 "metadata": {
  "kernelspec": {
   "display_name": "Python 3",
   "language": "python",
   "name": "python3"
  },
  "language_info": {
   "codemirror_mode": {
    "name": "ipython",
    "version": 3
   },
   "file_extension": ".py",
   "mimetype": "text/x-python",
   "name": "python",
   "nbconvert_exporter": "python",
   "pygments_lexer": "ipython3",
   "version": "3.5.2"
  }
 },
 "nbformat": 4,
 "nbformat_minor": 2
}
